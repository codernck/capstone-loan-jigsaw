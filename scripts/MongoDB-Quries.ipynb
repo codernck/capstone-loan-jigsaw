{
 "cells": [
  {
   "attachments": {},
   "cell_type": "markdown",
   "id": "ff4e2d43",
   "metadata": {},
   "source": [
    "In MongoDB, \n",
    "- we have a database created and named it as capstonejigsawdb, \n",
    "- The tables in SQL are similar to the collection in the MongoDB - here we have a single collection - loandata\n",
    "- Finally the row is SQL is equivalent to documents in MongoDB\n",
    "\n",
    "We have loaded the csv file into this database collections"
   ]
  },
  {
   "cell_type": "code",
   "execution_count": 11,
   "id": "6079d657",
   "metadata": {},
   "outputs": [],
   "source": [
    "from pymongo.mongo_client import MongoClient\n",
    "from prettytable import PrettyTable\n",
    "from pprint import pprint"
   ]
  },
  {
   "cell_type": "code",
   "execution_count": 2,
   "id": "5a2d3fe9",
   "metadata": {},
   "outputs": [
    {
     "name": "stdout",
     "output_type": "stream",
     "text": [
      "Pinged your deployment. You successfully connected to MongoDB!\n"
     ]
    }
   ],
   "source": [
    "uri = \"<uri-of-data>\"\n",
    "client = MongoClient(uri)\n",
    "# Send a ping to confirm a successful connection\n",
    "try:\n",
    "    client.admin.command('ping')\n",
    "    print(\"Pinged your deployment. You successfully connected to MongoDB!\")\n",
    "except Exception as e:\n",
    "    print(e)"
   ]
  },
  {
   "cell_type": "code",
   "execution_count": 3,
   "id": "27018160",
   "metadata": {},
   "outputs": [],
   "source": [
    "mydb = client[\"capstonejigsawdb\"]\n",
    "mycol = mydb[\"loandata\"]\n"
   ]
  },
  {
   "attachments": {},
   "cell_type": "markdown",
   "id": "a10c4975",
   "metadata": {},
   "source": [
    "# Reporting:"
   ]
  },
  {
   "attachments": {},
   "cell_type": "markdown",
   "id": "21e6428f",
   "metadata": {},
   "source": [
    "#### 1. Get the total number of documents present"
   ]
  },
  {
   "cell_type": "code",
   "execution_count": 4,
   "id": "4ee6681c",
   "metadata": {},
   "outputs": [
    {
     "name": "stdout",
     "output_type": "stream",
     "text": [
      "Total number of documents : 23315\n"
     ]
    }
   ],
   "source": [
    "total_count = mycol.count_documents({})\n",
    "print(\"Total number of documents :\",total_count)"
   ]
  },
  {
   "attachments": {},
   "cell_type": "markdown",
   "id": "5f668105",
   "metadata": {},
   "source": [
    "#### 2. We will check how many customers are loan defualters and we will also see it in percentage"
   ]
  },
  {
   "cell_type": "code",
   "execution_count": 24,
   "id": "8f12584e",
   "metadata": {},
   "outputs": [],
   "source": [
    "loansDefault_qry = [\n",
    "  {\n",
    "    \"$group\": {\n",
    "      \"_id\": \"$loan_default\",\n",
    "      \"count\": { \"$sum\": 1 }\n",
    "    }\n",
    "  },\n",
    "  {\n",
    "    \"$project\": {\n",
    "      \"_id\": 0,\n",
    "      \"Loan_Default\": \"$_id\",\n",
    "      \"count\": 1,\n",
    "      \"percentage\": {\n",
    "        \"$concat\": [\n",
    "          { \"$toString\": { \"$multiply\": [ { \"$divide\": [ \"$count\", total_count ] }, 100 ] } },\n",
    "          \"%\"\n",
    "        ]\n",
    "      }\n",
    "    }\n",
    "  }\n",
    "]\n",
    "\n",
    "loan_defaulters = mycol.aggregate(loansDefault_qry)\n",
    "\n",
    "#print('Number of Loans Defaulters in terms of percentage')\n",
    "#for cust1 in loan_defaulters:\n",
    "#    pprint(cust1)\n"
   ]
  },
  {
   "cell_type": "code",
   "execution_count": 25,
   "id": "d5be9bee",
   "metadata": {},
   "outputs": [
    {
     "name": "stdout",
     "output_type": "stream",
     "text": [
      "+--------------+-------+------------+\n",
      "| Loan Default | Count | Percentage |\n",
      "+--------------+-------+------------+\n",
      "|      0       | 18189 |  78.0142%  |\n",
      "|      1       |  5126 |  21.9858%  |\n",
      "+--------------+-------+------------+\n"
     ]
    }
   ],
   "source": [
    "pt = PrettyTable()\n",
    "#pt = PrettyTable(\n",
    "pt.field_names =['Loan Default', 'Count', 'Percentage']\n",
    "for cust in loan_defaulters:\n",
    "    pt.add_row([cust['Loan_Default'], cust['count'], cust['percentage']])\n",
    "    \n",
    "print(pt)    "
   ]
  },
  {
   "attachments": {},
   "cell_type": "markdown",
   "id": "2149f3b9",
   "metadata": {},
   "source": [
    "#### 3. We will analyze of many types of data are their in Emloyment Type column"
   ]
  },
  {
   "cell_type": "code",
   "execution_count": 27,
   "id": "65344653",
   "metadata": {},
   "outputs": [],
   "source": [
    "numEmps_qry = [\n",
    "  {\n",
    "    \"$group\": {\n",
    "      \"_id\": \"$Employment_Type\",\n",
    "      \"count\": { \"$sum\": { \"$cond\": [{ \"$eq\": [\"$loan_default\", 1] }, 1, 0] } }\n",
    "    }\n",
    "  },\n",
    "  {\n",
    "    \"$match\": {\n",
    "      \"count\": { \"$gt\": 0 }\n",
    "    }\n",
    "  }\n",
    "]\n",
    "etype_defaults = mycol.aggregate(numEmps_qry)\n"
   ]
  },
  {
   "cell_type": "code",
   "execution_count": 29,
   "id": "e00bf7cb",
   "metadata": {},
   "outputs": [
    {
     "name": "stdout",
     "output_type": "stream",
     "text": [
      "+-----------------+-------+\n",
      "| Employment Type | Count |\n",
      "+-----------------+-------+\n",
      "|  Self employed  |  3111 |\n",
      "|     Salaried    |  2015 |\n",
      "+-----------------+-------+\n"
     ]
    }
   ],
   "source": [
    "pt = PrettyTable()\n",
    "#pt = PrettyTable(\n",
    "pt.field_names =['Employment Type', 'Count']\n",
    "for cust in etype_defaults:\n",
    "    pt.add_row([cust['_id'], cust['count']])\n",
    "    \n",
    "print(pt)  "
   ]
  },
  {
   "attachments": {},
   "cell_type": "markdown",
   "id": "359cd086",
   "metadata": {},
   "source": [
    "#### 4. We will examine the number of defaulters, non-defaulters accross the employment type"
   ]
  },
  {
   "cell_type": "code",
   "execution_count": 32,
   "id": "ea65043b",
   "metadata": {},
   "outputs": [],
   "source": [
    "employeesDefault_qry = [\n",
    "  {\n",
    "    \"$group\": {\n",
    "      \"_id\": {\n",
    "        \"eType\": \"$Employment_Type\",\n",
    "        \"loanType\": \"$loan_default\"\n",
    "      },\n",
    "      \"total\": {\n",
    "        \"$sum\": 1\n",
    "      }\n",
    "    }\n",
    "  },\n",
    "  {\n",
    "    \"$group\": {\n",
    "      \"_id\": \"$_id.eType\",\n",
    "      \"eType\": {\n",
    "        \"$push\": \"$$ROOT\"\n",
    "      },\n",
    "      \"total\": {\n",
    "        \"$sum\": \"$total\"\n",
    "      }\n",
    "    }\n",
    "  },\n",
    "  {\n",
    "    \"$addFields\": {\n",
    "      \"eType\": {\n",
    "        \"$map\": {\n",
    "          \"input\": \"$eType\",\n",
    "          \"in\": {\n",
    "            \"_id\": \"$$this._id\",\n",
    "            \"count\":\"$$this.total\",\n",
    "            \"percentage\": {\n",
    "              \"$multiply\": [\n",
    "                {\n",
    "                  \"$divide\": [ \"$$this.total\", total_count ]\n",
    "                },\n",
    "                100\n",
    "              ]\n",
    "            }\n",
    "          }\n",
    "        }\n",
    "      }\n",
    "    }\n",
    "  },\n",
    "  {\n",
    "    \"$unwind\": \"$eType\"\n",
    "  },\n",
    "  {\n",
    "    \"$replaceRoot\": {\n",
    "      \"newRoot\": \"$eType\"\n",
    "    }\n",
    "  }\n",
    "]\n",
    "\n",
    "default_by_etype = mycol.aggregate(employeesDefault_qry)"
   ]
  },
  {
   "cell_type": "code",
   "execution_count": 33,
   "id": "470e7338",
   "metadata": {},
   "outputs": [
    {
     "name": "stdout",
     "output_type": "stream",
     "text": [
      "+-----------------+-------------+-------+--------------------+\n",
      "| Employment Type | LoanDefault | Count |     Percentage     |\n",
      "+-----------------+-------------+-------+--------------------+\n",
      "|  Self employed  |      0      | 10383 | 44.53356208449496  |\n",
      "|  Self employed  |      1      |  3111 | 13.343341196654515 |\n",
      "|     Salaried    |      0      |  7806 | 33.48059189363071  |\n",
      "|     Salaried    |      1      |  2015 | 8.642504825219815  |\n",
      "+-----------------+-------------+-------+--------------------+\n"
     ]
    }
   ],
   "source": [
    "pt = PrettyTable()\n",
    "#pt = PrettyTable(\n",
    "pt.field_names =['Employment Type','LoanDefault', 'Count', 'Percentage']\n",
    "for cust in default_by_etype:\n",
    "    pt.add_row([cust['_id']['eType'], cust['_id']['loanType'], cust['count'], cust['percentage']])\n",
    "    \n",
    "print(pt)"
   ]
  },
  {
   "attachments": {},
   "cell_type": "markdown",
   "id": "8b3eea96",
   "metadata": {},
   "source": [
    "#### 5. Get the defaulter percentage branch-wise"
   ]
  },
  {
   "cell_type": "code",
   "execution_count": 51,
   "id": "b21a6dc1",
   "metadata": {},
   "outputs": [],
   "source": [
    "branchwise_qry = [\n",
    "  {\"$match\": {\"loan_default\":1}},\n",
    "  {  \n",
    "    \"$group\": {\n",
    "      \"_id\": {\n",
    "        \"branch\": \"$branch_id\"\n",
    "      },\n",
    "      \"total\": {\n",
    "        \"$sum\": 1\n",
    "      }\n",
    "    }\n",
    "  },\n",
    "  {\n",
    "    \"$group\": {\n",
    "      \"_id\": \"$_id.branch\",\n",
    "      \"branch\": {\n",
    "        \"$push\": \"$$ROOT\"\n",
    "      },\n",
    "      \"total\": {\n",
    "        \"$sum\": \"$total\"\n",
    "      }\n",
    "    }\n",
    "  },\n",
    "  {\n",
    "    \"$addFields\": {\n",
    "      \"branch\": {\n",
    "        \"$map\": {\n",
    "          \"input\": \"$branch\",\n",
    "          \"in\": {\n",
    "            \"_id\": \"$$this._id\",\n",
    "            \"count\":\"$$this.total\",\n",
    "            \"percentage\": {\n",
    "              \"$multiply\": [\n",
    "                {\n",
    "                  \"$divide\": [ \"$$this.total\", total_count ]\n",
    "                },\n",
    "                100\n",
    "              ]\n",
    "            }\n",
    "          }\n",
    "        }\n",
    "      }\n",
    "    }\n",
    "  },  \n",
    "  {\n",
    "    \"$unwind\": \"$branch\"\n",
    "  },\n",
    "  {\n",
    "    \"$replaceRoot\": {\n",
    "      \"newRoot\": \"$branch\"\n",
    "    }\n",
    "  },\n",
    "  {\"$sort\": {\"count\":-1}}    \n",
    "]\n",
    "\n",
    "branchWise = mycol.aggregate(branchwise_qry)\n"
   ]
  },
  {
   "cell_type": "code",
   "execution_count": 52,
   "id": "81428ff9",
   "metadata": {},
   "outputs": [
    {
     "name": "stdout",
     "output_type": "stream",
     "text": [
      "+-----------+-------+----------------------+\n",
      "| Branch Id | Count |      Percentage      |\n",
      "+-----------+-------+----------------------+\n",
      "|     36    |  292  |  1.2524126099077846  |\n",
      "|     2     |  241  |  1.0336693116019728  |\n",
      "|     67    |  214  |  0.9178640360283079  |\n",
      "|     5     |  198  |   0.84923868754021   |\n",
      "|     16    |  180  |  0.7720351704911002  |\n",
      "|    136    |  167  |  0.7162770748445206  |\n",
      "|     3     |  162  |  0.6948316534419902  |\n",
      "|    146    |  153  |  0.6562298949174351  |\n",
      "|     74    |  139  |  0.5961827149903496  |\n",
      "|     34    |  139  |  0.5961827149903496  |\n",
      "|     18    |  133  |  0.5704482093073129  |\n",
      "|    251    |  120  |  0.5146901136607335  |\n",
      "|    147    |  115  |  0.4932446922582029  |\n",
      "|     65    |  113  | 0.48466652369719065  |\n",
      "|    120    |  108  |  0.4632211022946601  |\n",
      "|     10    |  107  | 0.45893201801415395  |\n",
      "|     61    |  104  | 0.44606476517263566  |\n",
      "|     11    |   99  |  0.424619343770105   |\n",
      "|    138    |   92  |  0.3945957538065623  |\n",
      "|     20    |   92  |  0.3945957538065623  |\n",
      "|     1     |   92  |  0.3945957538065623  |\n",
      "|     48    |   90  |  0.3860175852455501  |\n",
      "|    160    |   84  |  0.3602830795625134  |\n",
      "|     19    |   80  | 0.34312674244048896  |\n",
      "|    103    |   77  |  0.3302594895989706  |\n",
      "|    135    |   73  | 0.31310315247694614  |\n",
      "|    105    |   70  | 0.30023589963542785  |\n",
      "|    159    |   67  |  0.2873686467939095  |\n",
      "|     79    |   66  |  0.2830795625134034  |\n",
      "|     7     |   63  |  0.2702123096718851  |\n",
      "|     68    |   59  |  0.2530559725498606  |\n",
      "|     13    |   58  | 0.24876688826935447  |\n",
      "|    152    |   58  | 0.24876688826935447  |\n",
      "|     9     |   58  | 0.24876688826935447  |\n",
      "|     78    |   56  | 0.24018871970834227  |\n",
      "|    254    |   56  | 0.24018871970834227  |\n",
      "|    202    |   54  | 0.23161055114733006  |\n",
      "|    162    |   53  | 0.22732146686682392  |\n",
      "|     15    |   51  |  0.2187432983058117  |\n",
      "|    248    |   46  | 0.19729787690328116  |\n",
      "|     14    |   46  | 0.19729787690328116  |\n",
      "|     42    |   44  | 0.18871970834226892  |\n",
      "|     8     |   44  | 0.18871970834226892  |\n",
      "|     85    |   40  | 0.17156337122024448  |\n",
      "|     64    |   39  | 0.16727428693973836  |\n",
      "|    250    |   35  | 0.15011794981771392  |\n",
      "|     72    |   33  |  0.1415397812567017  |\n",
      "|     70    |   32  | 0.13725069697619557  |\n",
      "|     63    |   32  | 0.13725069697619557  |\n",
      "|     73    |   31  | 0.13296161269568946  |\n",
      "|    255    |   31  | 0.13296161269568946  |\n",
      "|     29    |   31  | 0.13296161269568946  |\n",
      "|    104    |   27  | 0.11580527557366503  |\n",
      "|    153    |   23  | 0.09864893845164058  |\n",
      "|    249    |   22  | 0.09435985417113446  |\n",
      "|    117    |   22  | 0.09435985417113446  |\n",
      "|    165    |   21  | 0.09007076989062834  |\n",
      "|    257    |   21  | 0.09007076989062834  |\n",
      "|     17    |   21  | 0.09007076989062834  |\n",
      "|     35    |   19  | 0.08149260132961612  |\n",
      "|     69    |   19  | 0.08149260132961612  |\n",
      "|     77    |   18  | 0.07720351704911001  |\n",
      "|    130    |   17  |  0.0729144327686039  |\n",
      "|     76    |   17  |  0.0729144327686039  |\n",
      "|    121    |   15  | 0.06433626420759168  |\n",
      "|     62    |   15  | 0.06433626420759168  |\n",
      "|    142    |   14  | 0.06004717992708557  |\n",
      "|     82    |   14  | 0.06004717992708557  |\n",
      "|     43    |   12  | 0.05146901136607334  |\n",
      "|     66    |   11  | 0.04717992708556723  |\n",
      "|    207    |   11  | 0.04717992708556723  |\n",
      "|    100    |   10  | 0.04289084280506112  |\n",
      "|    259    |   9   | 0.038601758524555004 |\n",
      "|    258    |   9   | 0.038601758524555004 |\n",
      "|     97    |   9   | 0.038601758524555004 |\n",
      "|    101    |   8   | 0.034312674244048894 |\n",
      "|     84    |   7   | 0.030023589963542784 |\n",
      "|    260    |   6   | 0.02573450568303667  |\n",
      "|    111    |   4   | 0.017156337122024447 |\n",
      "|    261    |   4   | 0.017156337122024447 |\n",
      "|    158    |   3   | 0.012867252841518335 |\n",
      "|    217    |   1   | 0.004289084280506112 |\n",
      "+-----------+-------+----------------------+\n"
     ]
    }
   ],
   "source": [
    "\n",
    "pt = PrettyTable()\n",
    "pt.field_names =['Branch Id', 'Count', 'Percentage']\n",
    "for cust in branchWise:\n",
    "    pt.add_row([cust['_id']['branch'], cust['count'], cust['percentage']])\n",
    "    \n",
    "print(pt)"
   ]
  },
  {
   "attachments": {},
   "cell_type": "markdown",
   "id": "102cdd92",
   "metadata": {},
   "source": [
    "#### 6. Get the defaulter age wise refer: https://en.wikipedia.org/wiki/Generation#List_of_social_generations\n",
    "#### Born in between 1946 - 1964:Baby Boomers; 1965 - 1976:Gen X; 1977 - 1995:Millennials; 1995 - 2010:GenZ"
   ]
  },
  {
   "cell_type": "code",
   "execution_count": 59,
   "id": "c0dd6250",
   "metadata": {},
   "outputs": [],
   "source": [
    "agegen_qry = [\n",
    "  {\"$match\": {\"loan_default\":1}},  \n",
    "  {\n",
    "    \"$group\": {\n",
    "      \"_id\": {\n",
    "        \"genage\": \"$GenCategory\",\n",
    "        \"loanType\": \"$loan_default\"\n",
    "      },\n",
    "      \"total\": {\n",
    "        \"$sum\": 1\n",
    "      }\n",
    "    }\n",
    "  },\n",
    "  {\n",
    "    \"$group\": {\n",
    "      \"_id\": \"$_id.genage\",\n",
    "      \"genage\": {\n",
    "        \"$push\": \"$$ROOT\"\n",
    "      },\n",
    "      \"total\": {\n",
    "        \"$sum\": \"$total\"\n",
    "      }\n",
    "    }\n",
    "  },\n",
    "  {\n",
    "    \"$addFields\": {\n",
    "      \"genage\": {\n",
    "        \"$map\": {\n",
    "          \"input\": \"$genage\",\n",
    "          \"in\": {\n",
    "            \"_id\": \"$$this._id\",\n",
    "            \"count\":\"$$this.total\",\n",
    "            \"percentage\": {\n",
    "              \"$multiply\": [\n",
    "                {\n",
    "                  \"$divide\": [ \"$$this.total\", total_count ]\n",
    "                },\n",
    "                100\n",
    "              ]\n",
    "            }\n",
    "          }\n",
    "        }\n",
    "      }\n",
    "    }\n",
    "  },\n",
    "  {\n",
    "    \"$unwind\": \"$genage\"\n",
    "  },\n",
    "  {\n",
    "    \"$replaceRoot\": {\n",
    "      \"newRoot\": \"$genage\"\n",
    "    }\n",
    "  }\n",
    "]\n",
    "agedefaults = mycol.aggregate(agegen_qry)"
   ]
  },
  {
   "cell_type": "code",
   "execution_count": 60,
   "id": "9e2adad5",
   "metadata": {},
   "outputs": [
    {
     "name": "stdout",
     "output_type": "stream",
     "text": [
      "+---------------------+-------+--------------------+\n",
      "| Age-Generation-Name | Count |     Percentage     |\n",
      "+---------------------+-------+--------------------+\n",
      "|      millenials     |  3239 | 13.892343984559297 |\n",
      "|       zoomers       |  290  | 1.2438344413467723 |\n",
      "|         genx        |  1433 | 6.146257773965258  |\n",
      "|       boomers       |  164  | 0.7034098220030024 |\n",
      "+---------------------+-------+--------------------+\n"
     ]
    }
   ],
   "source": [
    "pt = PrettyTable()\n",
    "pt.field_names =['Age-Generation-Name', 'Count', 'Percentage']\n",
    "for cust in agedefaults:\n",
    "    pt.add_row([cust['_id']['genage'], cust['count'], cust['percentage']])\n",
    "    \n",
    "print(pt)"
   ]
  },
  {
   "cell_type": "code",
   "execution_count": null,
   "id": "e2c98b44",
   "metadata": {},
   "outputs": [],
   "source": []
  }
 ],
 "metadata": {
  "kernelspec": {
   "display_name": "Python 3 (ipykernel)",
   "language": "python",
   "name": "python3"
  },
  "language_info": {
   "codemirror_mode": {
    "name": "ipython",
    "version": 3
   },
   "file_extension": ".py",
   "mimetype": "text/x-python",
   "name": "python",
   "nbconvert_exporter": "python",
   "pygments_lexer": "ipython3",
   "version": "3.10.9"
  }
 },
 "nbformat": 4,
 "nbformat_minor": 5
}
